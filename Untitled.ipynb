{
 "cells": [
  {
   "cell_type": "code",
   "execution_count": 14,
   "id": "8ded1c80",
   "metadata": {},
   "outputs": [],
   "source": [
    "import matplotlib.pyplot as plt\n",
    "import seaborn as sns\n",
    "from keras.models import Sequential\n",
    "from keras.layers import Dense, Conv2D , MaxPool2D , Flatten , Dropout , BatchNormalization\n",
    "from keras.preprocessing.image import ImageDataGenerator\n",
    "from sklearn.model_selection import train_test_split\n",
    "from sklearn.metrics import classification_report,confusion_matrix\n",
    "import pandas as pd"
   ]
  },
  {
   "cell_type": "code",
   "execution_count": 15,
   "id": "3691f944",
   "metadata": {},
   "outputs": [],
   "source": [
    "train_df = pd.read_csv(\"sign_mnist_train.csv\")\n",
    "test_df = pd.read_csv(\"sign_mnist_test.csv\")"
   ]
  },
  {
   "cell_type": "code",
   "execution_count": 16,
   "id": "d670194a",
   "metadata": {},
   "outputs": [],
   "source": [
    "y_train = train_df['label']\n",
    "y_test = test_df['label']\n",
    "del train_df['label']\n",
    "del test_df['label']\n"
   ]
  },
  {
   "cell_type": "code",
   "execution_count": 17,
   "id": "38a2f380",
   "metadata": {},
   "outputs": [],
   "source": [
    "from sklearn.preprocessing import LabelBinarizer\n",
    "label_binarizer = LabelBinarizer()\n",
    "y_train = label_binarizer.fit_transform(y_train)\n",
    "y_test = label_binarizer.fit_transform(y_test)"
   ]
  },
  {
   "cell_type": "code",
   "execution_count": 18,
   "id": "27df8d39",
   "metadata": {},
   "outputs": [],
   "source": [
    "x_train = train_df.values\n",
    "x_test = test_df.values\n",
    "\n",
    "x_train = x_train / 255\n",
    "x_test = x_test / 255\n",
    "\n",
    "x_train = x_train.reshape(-1,28,28,1)\n",
    "x_test = x_test.reshape(-1,28,28,1)"
   ]
  },
  {
   "cell_type": "code",
   "execution_count": 19,
   "id": "53f928fa",
   "metadata": {},
   "outputs": [],
   "source": [
    "datagen = ImageDataGenerator(\n",
    "        featurewise_center=False,\n",
    "        samplewise_center=False, \n",
    "        featurewise_std_normalization=False,\n",
    "        samplewise_std_normalization=False,\n",
    "        zca_whitening=False,\n",
    "        rotation_range=10,\n",
    "        zoom_range = 0.1, \n",
    "        width_shift_range=0.1,\n",
    "        height_shift_range=0.1,\n",
    "        horizontal_flip=False,\n",
    "        vertical_flip=False)\n",
    "\n",
    "datagen.fit(x_train)"
   ]
  },
  {
   "cell_type": "code",
   "execution_count": 20,
   "id": "aec8d24b",
   "metadata": {},
   "outputs": [],
   "source": [
    "model = Sequential()\n",
    "model.add(Conv2D(75 , (3,3) , strides = 1 , padding = 'same' , activation = 'relu' , input_shape = (28,28,1)))\n",
    "model.add(BatchNormalization())\n",
    "model.add(MaxPool2D((2,2) , strides = 2 , padding = 'same'))\n",
    "model.add(Conv2D(50 , (3,3) , strides = 1 , padding = 'same' , activation = 'relu'))\n",
    "model.add(Dropout(0.2))\n",
    "model.add(BatchNormalization())\n",
    "model.add(MaxPool2D((2,2) , strides = 2 , padding = 'same'))\n",
    "model.add(Conv2D(25 , (3,3) , strides = 1 , padding = 'same' , activation = 'relu'))\n",
    "model.add(BatchNormalization())\n",
    "model.add(MaxPool2D((2,2) , strides = 2 , padding = 'same'))\n",
    "model.add(Flatten())\n",
    "model.add(Dense(units = 512 , activation = 'relu'))\n",
    "model.add(Dropout(0.3))\n",
    "model.add(Dense(units = 24 , activation = 'softmax'))"
   ]
  },
  {
   "cell_type": "code",
   "execution_count": 21,
   "id": "8fbf4c20",
   "metadata": {},
   "outputs": [
    {
     "name": "stdout",
     "output_type": "stream",
     "text": [
      "Model: \"sequential_1\"\n",
      "_________________________________________________________________\n",
      " Layer (type)                Output Shape              Param #   \n",
      "=================================================================\n",
      " conv2d_2 (Conv2D)           (None, 28, 28, 75)        750       \n",
      "                                                                 \n",
      " batch_normalization_2 (Batc  (None, 28, 28, 75)       300       \n",
      " hNormalization)                                                 \n",
      "                                                                 \n",
      " max_pooling2d_2 (MaxPooling  (None, 14, 14, 75)       0         \n",
      " 2D)                                                             \n",
      "                                                                 \n",
      " conv2d_3 (Conv2D)           (None, 14, 14, 50)        33800     \n",
      "                                                                 \n",
      " dropout_1 (Dropout)         (None, 14, 14, 50)        0         \n",
      "                                                                 \n",
      " batch_normalization_3 (Batc  (None, 14, 14, 50)       200       \n",
      " hNormalization)                                                 \n",
      "                                                                 \n",
      " max_pooling2d_3 (MaxPooling  (None, 7, 7, 50)         0         \n",
      " 2D)                                                             \n",
      "                                                                 \n",
      " conv2d_4 (Conv2D)           (None, 7, 7, 25)          11275     \n",
      "                                                                 \n",
      " batch_normalization_4 (Batc  (None, 7, 7, 25)         100       \n",
      " hNormalization)                                                 \n",
      "                                                                 \n",
      " max_pooling2d_4 (MaxPooling  (None, 4, 4, 25)         0         \n",
      " 2D)                                                             \n",
      "                                                                 \n",
      " flatten_1 (Flatten)         (None, 400)               0         \n",
      "                                                                 \n",
      " dense_2 (Dense)             (None, 512)               205312    \n",
      "                                                                 \n",
      " dropout_2 (Dropout)         (None, 512)               0         \n",
      "                                                                 \n",
      " dense_3 (Dense)             (None, 24)                12312     \n",
      "                                                                 \n",
      "=================================================================\n",
      "Total params: 264,049\n",
      "Trainable params: 263,749\n",
      "Non-trainable params: 300\n",
      "_________________________________________________________________\n",
      "Epoch 1/20\n",
      "215/215 [==============================] - 54s 245ms/step - loss: 1.0285 - accuracy: 0.6779 - val_loss: 3.7889 - val_accuracy: 0.1196\n",
      "Epoch 2/20\n",
      "215/215 [==============================] - 73s 342ms/step - loss: 0.2134 - accuracy: 0.9286 - val_loss: 1.1531 - val_accuracy: 0.6011\n",
      "Epoch 3/20\n",
      "215/215 [==============================] - 90s 418ms/step - loss: 0.0967 - accuracy: 0.9690 - val_loss: 0.0540 - val_accuracy: 0.9863\n",
      "Epoch 4/20\n",
      "215/215 [==============================] - 98s 456ms/step - loss: 0.0605 - accuracy: 0.9803 - val_loss: 0.0548 - val_accuracy: 0.9866\n",
      "Epoch 5/20\n",
      "215/215 [==============================] - 53s 248ms/step - loss: 0.0464 - accuracy: 0.9846 - val_loss: 0.0415 - val_accuracy: 0.9902\n",
      "Epoch 6/20\n",
      "215/215 [==============================] - 69s 321ms/step - loss: 0.0327 - accuracy: 0.9894 - val_loss: 0.0366 - val_accuracy: 0.9844\n",
      "Epoch 7/20\n",
      "215/215 [==============================] - 53s 247ms/step - loss: 0.0263 - accuracy: 0.9917 - val_loss: 0.0706 - val_accuracy: 0.9774\n",
      "Epoch 8/20\n",
      "215/215 [==============================] - 72s 337ms/step - loss: 0.0302 - accuracy: 0.9906 - val_loss: 0.9059 - val_accuracy: 0.7920\n",
      "Epoch 9/20\n",
      "215/215 [==============================] - 118s 550ms/step - loss: 0.0261 - accuracy: 0.9918 - val_loss: 0.0498 - val_accuracy: 0.9835\n",
      "Epoch 10/20\n",
      "215/215 [==============================] - 117s 544ms/step - loss: 0.0209 - accuracy: 0.9937 - val_loss: 0.1238 - val_accuracy: 0.9540\n",
      "Epoch 11/20\n",
      "215/215 [==============================] - 115s 533ms/step - loss: 0.0253 - accuracy: 0.9912 - val_loss: 0.0318 - val_accuracy: 0.9861\n",
      "Epoch 12/20\n",
      "215/215 [==============================] - 106s 493ms/step - loss: 0.0181 - accuracy: 0.9944 - val_loss: 0.0248 - val_accuracy: 0.9905\n",
      "Epoch 13/20\n",
      "215/215 [==============================] - 97s 451ms/step - loss: 0.0180 - accuracy: 0.9935 - val_loss: 0.0596 - val_accuracy: 0.9757\n",
      "Epoch 14/20\n",
      "215/215 [==============================] - 108s 503ms/step - loss: 0.0178 - accuracy: 0.9943 - val_loss: 0.2054 - val_accuracy: 0.9368\n",
      "Epoch 15/20\n",
      "215/215 [==============================] - 67s 308ms/step - loss: 0.0126 - accuracy: 0.9958 - val_loss: 0.0261 - val_accuracy: 0.9926\n",
      "Epoch 16/20\n",
      "215/215 [==============================] - 111s 518ms/step - loss: 0.0173 - accuracy: 0.9939 - val_loss: 0.0111 - val_accuracy: 0.9971\n",
      "Epoch 17/20\n",
      "215/215 [==============================] - 121s 562ms/step - loss: 0.0205 - accuracy: 0.9933 - val_loss: 0.0066 - val_accuracy: 0.9979\n",
      "Epoch 18/20\n",
      "215/215 [==============================] - 107s 496ms/step - loss: 0.0172 - accuracy: 0.9942 - val_loss: 0.3058 - val_accuracy: 0.9081\n",
      "Epoch 19/20\n",
      "215/215 [==============================] - 97s 447ms/step - loss: 0.0140 - accuracy: 0.9955 - val_loss: 0.0627 - val_accuracy: 0.9803\n",
      "Epoch 20/20\n",
      "215/215 [==============================] - 91s 421ms/step - loss: 0.0151 - accuracy: 0.9952 - val_loss: 0.0893 - val_accuracy: 0.9699\n"
     ]
    }
   ],
   "source": [
    "model.compile(optimizer = 'adam' , loss = 'categorical_crossentropy' , metrics = ['accuracy'])\n",
    "model.summary()\n",
    "\n",
    "history = model.fit(datagen.flow(x_train,y_train, batch_size = 128) ,epochs = 20 , validation_data = (x_test, y_test))\n",
    "\n",
    "model.save('smnist.h5')"
   ]
  },
  {
   "cell_type": "code",
   "execution_count": 47,
   "id": "dfd3d019",
   "metadata": {},
   "outputs": [],
   "source": [
    "# !pip install mediapipe\n"
   ]
  },
  {
   "cell_type": "code",
   "execution_count": 41,
   "id": "0979c42e",
   "metadata": {},
   "outputs": [],
   "source": [
    "import os\n",
    "os.environ['TF_CPP_MIN_LOG_LEVEL'] = '3' \n",
    "import tensorflow as tf\n",
    "import cv2\n",
    "import mediapipe as mp\n",
    "from keras.models import load_model\n",
    "import numpy as np\n",
    "import time\n",
    "import pandas as pd"
   ]
  },
  {
   "cell_type": "code",
   "execution_count": 56,
   "id": "33939189",
   "metadata": {},
   "outputs": [],
   "source": [
    "# !pip install mediapipe==0.8.9.1"
   ]
  },
  {
   "cell_type": "code",
   "execution_count": 49,
   "id": "d15c10fa",
   "metadata": {},
   "outputs": [
    {
     "data": {
      "image/png": "[encoded data removed]",
      "text/plain": [
       "<Figure size 432x288 with 1 Axes>"
      ]
     },
     "metadata": {
      "needs_background": "light"
     },
     "output_type": "display_data"
    },
    {
     "data": {
      "image/png": "[encoded data removed]",
      "text/plain": [
       "<Figure size 432x288 with 1 Axes>"
      ]
     },
     "metadata": {
      "needs_background": "light"
     },
     "output_type": "display_data"
    }
   ],
   "source": [
    "history_df = pd.DataFrame(history.history) \n",
    "history_df.loc[:,['loss','val_loss']].plot() \n",
    "history_df.loc[:,['accuracy','val_accuracy']].plot() \n",
    "plt.show()"
   ]
  },
  {
   "cell_type": "code",
   "execution_count": 53,
   "id": "15a18beb",
   "metadata": {},
   "outputs": [
    {
     "name": "stdout",
     "output_type": "stream",
     "text": [
      "225/225 [==============================] - 3s 11ms/step - loss: 0.0893 - accuracy: 0.9699\n"
     ]
    },
    {
     "data": {
      "text/plain": [
       "[0.08930125832557678, 0.9698829054832458]"
      ]
     },
     "execution_count": 53,
     "metadata": {},
     "output_type": "execute_result"
    }
   ],
   "source": [
    "\n",
    "model.evaluate(x_test, y_test)"
   ]
  },
  {
   "cell_type": "code",
   "execution_count": null,
   "id": "cdf290d8",
   "metadata": {},
   "outputs": [],
   "source": []
  }
 ],
 "metadata": {
  "kernelspec": {
   "display_name": "Python 3",
   "language": "python",
   "name": "python3"
  },
  "language_info": {
   "codemirror_mode": {
    "name": "ipython",
    "version": 3
   },
   "file_extension": ".py",
   "mimetype": "text/x-python",
   "name": "python",
   "nbconvert_exporter": "python",
   "pygments_lexer": "ipython3",
   "version": "3.8.8"
  }
 },
 "nbformat": 4,
 "nbformat_minor": 5
}
